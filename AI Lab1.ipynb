{
  "nbformat": 4,
  "nbformat_minor": 0,
  "metadata": {
    "colab": {
      "provenance": []
    },
    "kernelspec": {
      "name": "python3",
      "display_name": "Python 3"
    },
    "language_info": {
      "name": "python"
    }
  },
  "cells": [
    {
      "cell_type": "code",
      "execution_count": null,
      "metadata": {
        "colab": {
          "base_uri": "https://localhost:8080/"
        },
        "id": "CEwRGQSbF2VU",
        "outputId": "c9685b60-8960-4459-b7a3-870c61d4e8b6"
      },
      "outputs": [
        {
          "output_type": "stream",
          "name": "stdout",
          "text": [
            "['CSE', '59-A', '212-15-4157', '3.90']\n"
          ]
        }
      ],
      "source": [
        "student = [\"CSE\", \"59-A\",\"Pranto\",\"212-15-4157\", \"3.90\"]\n",
        "print(pranto)"
      ]
    },
    {
      "cell_type": "code",
      "source": [
        "print(len(student))\n",
        "print(student[1])\n",
        "print(student[-1])\n",
        "print(student[2:4])"
      ],
      "metadata": {
        "colab": {
          "base_uri": "https://localhost:8080/"
        },
        "id": "Lc_eMf2jGVpS",
        "outputId": "44b5da73-7503-41f9-f49b-b2ed36678444"
      },
      "execution_count": null,
      "outputs": [
        {
          "output_type": "stream",
          "name": "stdout",
          "text": [
            "4\n",
            "59-A\n",
            "3.90\n",
            "['212-15-4157', '3.90']\n"
          ]
        }
      ]
    },
    {
      "cell_type": "code",
      "source": [
        "print(student[2:])"
      ],
      "metadata": {
        "id": "dY1P4yGXJBS6"
      },
      "execution_count": null,
      "outputs": []
    },
    {
      "cell_type": "code",
      "source": [
        "print(student[-4:-1])"
      ],
      "metadata": {
        "colab": {
          "base_uri": "https://localhost:8080/"
        },
        "id": "M2XqcH2TJGhg",
        "outputId": "f22e4466-604c-45b4-9195-a7ddd7a1f308"
      },
      "execution_count": null,
      "outputs": [
        {
          "output_type": "stream",
          "name": "stdout",
          "text": [
            "['CSE', '59-A', '212-15-4157']\n"
          ]
        }
      ]
    },
    {
      "cell_type": "code",
      "source": [
        "print(type(student))\n",
        "print(type(student[1]))"
      ],
      "metadata": {
        "colab": {
          "base_uri": "https://localhost:8080/"
        },
        "id": "j0XwMjbQHcRQ",
        "outputId": "4e27083a-089e-4a33-a431-11028f463d39"
      },
      "execution_count": null,
      "outputs": [
        {
          "output_type": "stream",
          "name": "stdout",
          "text": [
            "<class 'list'>\n",
            "<class 'str'>\n"
          ]
        }
      ]
    },
    {
      "cell_type": "code",
      "source": [
        "if \"212-15-4157\" in student:\n",
        "  print(\"Found\")"
      ],
      "metadata": {
        "colab": {
          "base_uri": "https://localhost:8080/"
        },
        "id": "6MRrV_MuJadP",
        "outputId": "4682f33b-5cf1-4ec1-e59c-93f962d45fe4"
      },
      "execution_count": null,
      "outputs": [
        {
          "output_type": "stream",
          "name": "stdout",
          "text": [
            "Found\n"
          ]
        }
      ]
    },
    {
      "cell_type": "code",
      "source": [
        "student2=[\"SWE\", \"56-A\",\"Anto\",\"212-15-4000\", \"3.00\"]\n",
        "print(student2)\n",
        "student2[3]=\"Shanto\"\n",
        "print(student2)"
      ],
      "metadata": {
        "colab": {
          "base_uri": "https://localhost:8080/"
        },
        "id": "zwwq-rIpJ70Q",
        "outputId": "65d7b492-82c1-46ec-dbf7-9956431b0cca"
      },
      "execution_count": null,
      "outputs": [
        {
          "metadata": {
            "tags": null
          },
          "name": "stdout",
          "output_type": "stream",
          "text": [
            "['SWE', '56-A', 'Anto', '212-15-4000', '3.00']\n",
            "['SWE', '56-A', 'Anto', 'Shanto', '3.00']\n"
          ]
        }
      ]
    },
    {
      "cell_type": "code",
      "source": [
        "f = open(\"name.txt\")"
      ],
      "metadata": {
        "id": "z73DRbTsK2tw"
      },
      "execution_count": null,
      "outputs": []
    },
    {
      "cell_type": "code",
      "source": [
        "\n"
      ],
      "metadata": {
        "id": "HU1anwAyMMNb"
      },
      "execution_count": 1,
      "outputs": []
    },
    {
      "cell_type": "code",
      "source": [
        "f = open(\"name.txt\", \"a\")\n",
        "f.write(\"Now the file has more content!\")\n",
        "f.close()\n"
      ],
      "metadata": {
        "id": "OH239hgdM63g"
      },
      "execution_count": null,
      "outputs": []
    }
  ]
}